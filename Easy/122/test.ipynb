{
 "cells": [
  {
   "cell_type": "code",
   "execution_count": 1,
   "metadata": {
    "ExecuteTime": {
     "end_time": "2020-09-05T02:20:00.292268Z",
     "start_time": "2020-09-05T02:20:00.287933Z"
    }
   },
   "outputs": [],
   "source": [
    "from t122 import Solution\n",
    "solution=Solution()"
   ]
  },
  {
   "cell_type": "code",
   "execution_count": 2,
   "metadata": {
    "ExecuteTime": {
     "end_time": "2020-09-05T02:20:00.298131Z",
     "start_time": "2020-09-05T02:20:00.295018Z"
    }
   },
   "outputs": [],
   "source": [
    "prices_1=[7,1,5,3,6,4]\n",
    "prices_2=[1,2,3,4,5]\n",
    "prices_3=[7,6,4,3,1]"
   ]
  },
  {
   "cell_type": "code",
   "execution_count": 3,
   "metadata": {
    "ExecuteTime": {
     "end_time": "2020-09-05T02:20:00.304891Z",
     "start_time": "2020-09-05T02:20:00.299844Z"
    }
   },
   "outputs": [
    {
     "name": "stdout",
     "output_type": "stream",
     "text": [
      "7\n",
      "4\n",
      "0\n"
     ]
    }
   ],
   "source": [
    "print(solution.maxProfit_dp(prices_1))\n",
    "print(solution.maxProfit_dp(prices_2))\n",
    "print(solution.maxProfit_dp(prices_3))"
   ]
  },
  {
   "cell_type": "code",
   "execution_count": 4,
   "metadata": {
    "ExecuteTime": {
     "end_time": "2020-09-05T02:20:00.313717Z",
     "start_time": "2020-09-05T02:20:00.309288Z"
    }
   },
   "outputs": [
    {
     "name": "stdout",
     "output_type": "stream",
     "text": [
      "7\n",
      "0\n",
      "0\n"
     ]
    }
   ],
   "source": [
    "print(solution.maxProfit_regular(prices_1))\n",
    "print(solution.maxProfit_regular(prices_2))\n",
    "print(solution.maxProfit_regular(prices_3))"
   ]
  },
  {
   "cell_type": "code",
   "execution_count": null,
   "metadata": {},
   "outputs": [],
   "source": []
  }
 ],
 "metadata": {
  "kernelspec": {
   "display_name": "Python 3",
   "language": "python",
   "name": "python3"
  },
  "language_info": {
   "codemirror_mode": {
    "name": "ipython",
    "version": 3
   },
   "file_extension": ".py",
   "mimetype": "text/x-python",
   "name": "python",
   "nbconvert_exporter": "python",
   "pygments_lexer": "ipython3",
   "version": "3.7.1"
  },
  "toc": {
   "base_numbering": 1,
   "nav_menu": {},
   "number_sections": true,
   "sideBar": true,
   "skip_h1_title": false,
   "title_cell": "Table of Contents",
   "title_sidebar": "Contents",
   "toc_cell": false,
   "toc_position": {},
   "toc_section_display": true,
   "toc_window_display": false
  }
 },
 "nbformat": 4,
 "nbformat_minor": 2
}

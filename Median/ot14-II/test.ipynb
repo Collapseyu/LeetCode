{
 "cells": [
  {
   "cell_type": "code",
   "execution_count": 4,
   "metadata": {
    "ExecuteTime": {
     "end_time": "2021-03-03T09:20:45.344893Z",
     "start_time": "2021-03-03T09:20:45.341697Z"
    }
   },
   "outputs": [],
   "source": [
    "from ot14_II import Solution"
   ]
  },
  {
   "cell_type": "code",
   "execution_count": 5,
   "metadata": {
    "ExecuteTime": {
     "end_time": "2021-03-03T09:20:45.457243Z",
     "start_time": "2021-03-03T09:20:45.452862Z"
    }
   },
   "outputs": [],
   "source": [
    "examples= [100,200,300,400,500]\n",
    "ans = [703522804, 818838607, 886041711, 620223836, 300460492]\n",
    "solution = Solution()"
   ]
  },
  {
   "cell_type": "code",
   "execution_count": 6,
   "metadata": {
    "ExecuteTime": {
     "end_time": "2021-03-03T09:20:45.591085Z",
     "start_time": "2021-03-03T09:20:45.585314Z"
    }
   },
   "outputs": [
    {
     "name": "stdout",
     "output_type": "stream",
     "text": [
      "algorithm res:  [703522804, 818838607, 886041711, 620223836, 300460492]\n",
      "real ans:  [703522804, 818838607, 886041711, 620223836, 300460492]\n"
     ]
    }
   ],
   "source": [
    "res = []\n",
    "for example in examples:\n",
    "    res.append(solution.cuttingRope(example))\n",
    "print('algorithm res: ',res)\n",
    "print('real ans: ',ans)"
   ]
  },
  {
   "cell_type": "code",
   "execution_count": null,
   "metadata": {},
   "outputs": [],
   "source": []
  },
  {
   "cell_type": "code",
   "execution_count": null,
   "metadata": {},
   "outputs": [],
   "source": []
  }
 ],
 "metadata": {
  "kernelspec": {
   "display_name": "Python 3",
   "language": "python",
   "name": "python3"
  },
  "language_info": {
   "codemirror_mode": {
    "name": "ipython",
    "version": 3
   },
   "file_extension": ".py",
   "mimetype": "text/x-python",
   "name": "python",
   "nbconvert_exporter": "python",
   "pygments_lexer": "ipython3",
   "version": "3.7.1"
  },
  "toc": {
   "base_numbering": 1,
   "nav_menu": {},
   "number_sections": true,
   "sideBar": true,
   "skip_h1_title": false,
   "title_cell": "Table of Contents",
   "title_sidebar": "Contents",
   "toc_cell": false,
   "toc_position": {},
   "toc_section_display": true,
   "toc_window_display": false
  }
 },
 "nbformat": 4,
 "nbformat_minor": 2
}

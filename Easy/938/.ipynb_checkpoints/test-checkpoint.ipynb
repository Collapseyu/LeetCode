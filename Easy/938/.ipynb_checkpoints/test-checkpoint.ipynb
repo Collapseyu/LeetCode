{
 "cells": [
  {
   "cell_type": "code",
   "execution_count": 10,
   "metadata": {},
   "outputs": [],
   "source": [
    "import sys,os\n",
    "struct_path = 'D:\\\\yuyicong\\\\workspace\\\\Algorithm_\\\\method'\n",
    "sys.path.append(struct_path)\n",
    "from structAndBuild import *\n",
    "import test_frame\n",
    "\n",
    "from typing import List\n",
    "from t938 import Solution\n",
    "# 给定二叉搜索树的根结点 root，返回值位于范围 [low, high] 之间的所有结点的值的和。\n",
    "examples =[\n",
    "    [[10,5,15,3,7,'null',18], 7, 15],\n",
    "    [[10,5,15,3,7,13,18,1,'null',6],6,10],\n",
    "]\n",
    "ans = [32,23]\n",
    "solution = Solution()\n",
    "testF = test_frame.Test_Frame(examples,ans,len(examples[0]),solution.rangeSumBST,False,True)"
   ]
  },
  {
   "cell_type": "code",
   "execution_count": 11,
   "metadata": {},
   "outputs": [
    {
     "name": "stdout",
     "output_type": "stream",
     "text": [
      "All the contained tests passed\n"
     ]
    }
   ],
   "source": [
    "testF.check_algorithm()"
   ]
  },
  {
   "cell_type": "code",
   "execution_count": null,
   "metadata": {},
   "outputs": [],
   "source": []
  }
 ],
 "metadata": {
  "kernelspec": {
   "display_name": "Python 3",
   "language": "python",
   "name": "python3"
  },
  "language_info": {
   "codemirror_mode": {
    "name": "ipython",
    "version": 3
   },
   "file_extension": ".py",
   "mimetype": "text/x-python",
   "name": "python",
   "nbconvert_exporter": "python",
   "pygments_lexer": "ipython3",
   "version": "3.8.5"
  }
 },
 "nbformat": 4,
 "nbformat_minor": 4
}

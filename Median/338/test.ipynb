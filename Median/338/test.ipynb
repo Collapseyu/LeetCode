{
 "cells": [
  {
   "cell_type": "code",
   "execution_count": 1,
   "metadata": {
    "ExecuteTime": {
     "end_time": "2021-03-03T05:56:23.383955Z",
     "start_time": "2021-03-03T05:56:23.378104Z"
    }
   },
   "outputs": [],
   "source": [
    "from t338 import Solution"
   ]
  },
  {
   "cell_type": "code",
   "execution_count": 2,
   "metadata": {
    "ExecuteTime": {
     "end_time": "2021-03-03T05:56:23.497727Z",
     "start_time": "2021-03-03T05:56:23.493523Z"
    }
   },
   "outputs": [],
   "source": [
    "examples = [\n",
    "    2,\n",
    "    5,\n",
    "    10\n",
    "]\n",
    "ans = [\n",
    "    [0,1,1],\n",
    "    [0,1,1,2,1,2],\n",
    "    [0,1,1,2,1,2,2,3,1,2,2]\n",
    "]\n",
    "solution = Solution()"
   ]
  },
  {
   "cell_type": "code",
   "execution_count": 3,
   "metadata": {
    "ExecuteTime": {
     "end_time": "2021-03-03T05:56:23.648223Z",
     "start_time": "2021-03-03T05:56:23.642993Z"
    }
   },
   "outputs": [
    {
     "name": "stdout",
     "output_type": "stream",
     "text": [
      "algorithm res:  [[0, 1, 1], [0, 1, 1, 2, 1, 2], [0, 1, 1, 2, 1, 2, 2, 3, 1, 2, 2]]\n",
      "real ans:  [[0, 1, 1], [0, 1, 1, 2, 1, 2], [0, 1, 1, 2, 1, 2, 2, 3, 1, 2, 2]]\n"
     ]
    }
   ],
   "source": [
    "res = []\n",
    "for example in examples:\n",
    "    res.append(solution.countBits_ori(example))\n",
    "print('algorithm res: ',res)\n",
    "print('real ans: ',ans)"
   ]
  },
  {
   "cell_type": "code",
   "execution_count": 4,
   "metadata": {
    "ExecuteTime": {
     "end_time": "2021-03-03T05:56:37.608777Z",
     "start_time": "2021-03-03T05:56:37.604711Z"
    }
   },
   "outputs": [
    {
     "name": "stdout",
     "output_type": "stream",
     "text": [
      "algorithm res:  [[0, 1, 1], [0, 1, 1, 2, 1, 2], [0, 1, 1, 2, 1, 2, 2, 3, 1, 2, 2]]\n",
      "real ans:  [[0, 1, 1], [0, 1, 1, 2, 1, 2], [0, 1, 1, 2, 1, 2, 2, 3, 1, 2, 2]]\n"
     ]
    }
   ],
   "source": [
    "res = []\n",
    "for example in examples:\n",
    "    res.append(solution.countBits_simple(example))\n",
    "print('algorithm res: ',res)\n",
    "print('real ans: ',ans)"
   ]
  },
  {
   "cell_type": "code",
   "execution_count": null,
   "metadata": {},
   "outputs": [],
   "source": []
  }
 ],
 "metadata": {
  "kernelspec": {
   "display_name": "Python 3",
   "language": "python",
   "name": "python3"
  },
  "language_info": {
   "codemirror_mode": {
    "name": "ipython",
    "version": 3
   },
   "file_extension": ".py",
   "mimetype": "text/x-python",
   "name": "python",
   "nbconvert_exporter": "python",
   "pygments_lexer": "ipython3",
   "version": "3.7.1"
  },
  "toc": {
   "base_numbering": 1,
   "nav_menu": {},
   "number_sections": true,
   "sideBar": true,
   "skip_h1_title": false,
   "title_cell": "Table of Contents",
   "title_sidebar": "Contents",
   "toc_cell": false,
   "toc_position": {},
   "toc_section_display": true,
   "toc_window_display": false
  }
 },
 "nbformat": 4,
 "nbformat_minor": 2
}

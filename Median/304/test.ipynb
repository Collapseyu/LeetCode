{
 "cells": [
  {
   "cell_type": "code",
   "execution_count": 1,
   "metadata": {
    "ExecuteTime": {
     "end_time": "2021-03-02T06:03:34.632326Z",
     "start_time": "2021-03-02T06:03:34.629269Z"
    }
   },
   "outputs": [],
   "source": [
    "from t304 import NumMatrix"
   ]
  },
  {
   "cell_type": "code",
   "execution_count": 15,
   "metadata": {
    "ExecuteTime": {
     "end_time": "2021-03-02T06:09:52.214619Z",
     "start_time": "2021-03-02T06:09:52.208674Z"
    }
   },
   "outputs": [],
   "source": [
    "examples = [\n",
    "    [\n",
    "        [\"NumMatrix\",\"sumRegion\",\"sumRegion\",\"sumRegion\"],\n",
    "        [[[3,0,1,4,2],[5,6,3,2,1],[1,2,0,1,5],[4,1,0,1,7],[1,0,3,0,5]],[2,1,4,3],[1,1,2,2],[1,2,2,4]]\n",
    "    ],\n",
    "    [\n",
    "        [\"NumMatrix\"],\n",
    "        [[[]]]\n",
    "    ]\n",
    "]\n",
    "ans = [\n",
    "    [8,11,12],\n",
    "    []\n",
    "]"
   ]
  },
  {
   "cell_type": "code",
   "execution_count": 17,
   "metadata": {
    "ExecuteTime": {
     "end_time": "2021-03-02T06:09:59.762490Z",
     "start_time": "2021-03-02T06:09:59.755206Z"
    }
   },
   "outputs": [
    {
     "name": "stdout",
     "output_type": "stream",
     "text": [
      "algorithm res:  [[8, 11, 12], []]\n",
      "real ans:  [[8, 11, 12], []]\n"
     ]
    }
   ],
   "source": [
    "res = []\n",
    "for example in examples:\n",
    "    tmp_num = NumMatrix(example[1][0])\n",
    "#     print(example[1][0])\n",
    "    res_tmp = []\n",
    "    for i in range(1,len(example[1])):\n",
    "        res_tmp.append(tmp_num.sumRegion(example[1][i][0],example[1][i][1],example[1][i][2],example[1][i][3]))\n",
    "    res.append(res_tmp)\n",
    "print('algorithm res: ',res)\n",
    "print('real ans: ',ans)"
   ]
  },
  {
   "cell_type": "code",
   "execution_count": null,
   "metadata": {},
   "outputs": [],
   "source": []
  }
 ],
 "metadata": {
  "kernelspec": {
   "display_name": "Python 3",
   "language": "python",
   "name": "python3"
  },
  "language_info": {
   "codemirror_mode": {
    "name": "ipython",
    "version": 3
   },
   "file_extension": ".py",
   "mimetype": "text/x-python",
   "name": "python",
   "nbconvert_exporter": "python",
   "pygments_lexer": "ipython3",
   "version": "3.7.1"
  },
  "toc": {
   "base_numbering": 1,
   "nav_menu": {},
   "number_sections": true,
   "sideBar": true,
   "skip_h1_title": false,
   "title_cell": "Table of Contents",
   "title_sidebar": "Contents",
   "toc_cell": false,
   "toc_position": {},
   "toc_section_display": true,
   "toc_window_display": false
  }
 },
 "nbformat": 4,
 "nbformat_minor": 2
}

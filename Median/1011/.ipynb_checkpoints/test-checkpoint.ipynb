{
 "cells": [
  {
   "cell_type": "code",
   "execution_count": 1,
   "metadata": {},
   "outputs": [],
   "source": [
    "import sys,os\n",
    "struct_path = 'D:\\\\yuyicong\\\\workspace\\\\Algorithm_\\\\method'\n",
    "sys.path.append(struct_path)\n",
    "import structAndBuild\n",
    "\n",
    "from typing import List\n",
    "# 传送带上的包裹必须在 D 天内从一个港口运送到另一个港口。\n",
    "# 传送带上的第 i 个包裹的重量为 weights[i]。每一天，我们都会按给出重量的顺序往传送带上装载包裹。\n",
    "# 我们装载的重量不会超过船的最大运载重量。\n",
    "# 返回能在 D 天内将传送带上的所有包裹送达的船的最低运载能力。\n",
    "\n",
    "examples = [\n",
    "   [[1,2,3,4,5,6,7,8,9,10],5],\n",
    "   [[3,2,2,4,1,4],         3],\n",
    "   [[1,2,3,1,1],           4]\n",
    "]\n",
    "ans = [15,6,3]"
   ]
  },
  {
   "cell_type": "code",
   "execution_count": 5,
   "metadata": {},
   "outputs": [],
   "source": [
    "class Solution:\n",
    "    def shipWithinDays(self, weights: List[int], D: int) -> int:\n",
    "        max_v = sum(weights)\n",
    "        min_v = max(weights)\n",
    "        def v_d_check(v):\n",
    "            day = 0\n",
    "            sum_value = 0\n",
    "            for i in weights:\n",
    "                if sum_value + i > v:\n",
    "                    day += 1\n",
    "                    if day > D:\n",
    "                        return False\n",
    "                    sum_value = i\n",
    "                else:\n",
    "                    sum_value += i\n",
    "            if day + 1 > D:\n",
    "                return False\n",
    "            return True\n",
    "        while(max_v >= min_v):\n",
    "            mid = (max_v+min_v)//2\n",
    "            if v_d_check(mid):\n",
    "                max_v = mid - 1\n",
    "            else:\n",
    "                min_v = mid + 1\n",
    "        return min_v"
   ]
  },
  {
   "cell_type": "code",
   "execution_count": null,
   "metadata": {},
   "outputs": [],
   "source": []
  }
 ],
 "metadata": {
  "kernelspec": {
   "display_name": "Python 3",
   "language": "python",
   "name": "python3"
  },
  "language_info": {
   "codemirror_mode": {
    "name": "ipython",
    "version": 3
   },
   "file_extension": ".py",
   "mimetype": "text/x-python",
   "name": "python",
   "nbconvert_exporter": "python",
   "pygments_lexer": "ipython3",
   "version": "3.8.5"
  }
 },
 "nbformat": 4,
 "nbformat_minor": 4
}

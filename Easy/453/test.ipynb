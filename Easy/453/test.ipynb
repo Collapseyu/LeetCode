{
 "cells": [
  {
   "cell_type": "code",
   "execution_count": 1,
   "metadata": {},
   "outputs": [],
   "source": [
    "import sys,os\n",
    "struct_path = 'D:\\\\yuyicong\\\\workspace\\\\Algorithm_\\\\method'\n",
    "sys.path.append(struct_path)\n",
    "from structAndBuild import *\n",
    "import test_frame\n",
    "\n",
    "from typing import List\n",
    "from t453 import Solution\n",
    "\n",
    "# 给定一个长度为 n 的 非空 整数数组，每次操作将会使 n - 1 个元素增加 1。找出让数组所有元素相等的最小操作次数。\n",
    "examples = [\n",
    "    [[1,2,3]],\n",
    "    [[1,2,3,4]],\n",
    "    [[1,1,1000000000]]\n",
    "]\n",
    "ans = [3,6,999999999]\n",
    "solution = Solution()\n",
    "testF = test_frame.Test_Frame(examples,ans,len(examples[0]),solution.minMoves)"
   ]
  },
  {
   "cell_type": "code",
   "execution_count": 2,
   "metadata": {},
   "outputs": [
    {
     "name": "stdout",
     "output_type": "stream",
     "text": [
      "All the contained tests passed\n"
     ]
    }
   ],
   "source": [
    "testF.check_algorithm()"
   ]
  },
  {
   "cell_type": "code",
   "execution_count": null,
   "metadata": {},
   "outputs": [],
   "source": []
  }
 ],
 "metadata": {
  "kernelspec": {
   "display_name": "Python 3",
   "language": "python",
   "name": "python3"
  },
  "language_info": {
   "codemirror_mode": {
    "name": "ipython",
    "version": 3
   },
   "file_extension": ".py",
   "mimetype": "text/x-python",
   "name": "python",
   "nbconvert_exporter": "python",
   "pygments_lexer": "ipython3",
   "version": "3.8.5"
  }
 },
 "nbformat": 4,
 "nbformat_minor": 4
}

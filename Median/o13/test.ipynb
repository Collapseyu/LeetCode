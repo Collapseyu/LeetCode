{
 "cells": [
  {
   "cell_type": "code",
   "execution_count": 1,
   "metadata": {
    "ExecuteTime": {
     "end_time": "2021-03-02T06:27:29.263134Z",
     "start_time": "2021-03-02T06:27:29.256206Z"
    }
   },
   "outputs": [],
   "source": [
    "from ot13 import Solution"
   ]
  },
  {
   "cell_type": "code",
   "execution_count": 2,
   "metadata": {
    "ExecuteTime": {
     "end_time": "2021-03-02T06:27:29.388602Z",
     "start_time": "2021-03-02T06:27:29.383818Z"
    }
   },
   "outputs": [],
   "source": [
    "examples = [\n",
    "    [16,16,4],\n",
    "    [16,8,4],\n",
    "    [2,3,1],\n",
    "    [3,1,0],\n",
    "    [1,2,1],\n",
    "    [3,2,17],\n",
    "    [11,8,16],\n",
    "    [38,15,9],\n",
    "]\n",
    "ans = [15,15,3,1,2,6,88,135]\n",
    "solution =Solution() "
   ]
  },
  {
   "cell_type": "code",
   "execution_count": 3,
   "metadata": {
    "ExecuteTime": {
     "end_time": "2021-03-02T06:27:30.065699Z",
     "start_time": "2021-03-02T06:27:30.056497Z"
    }
   },
   "outputs": [
    {
     "name": "stdout",
     "output_type": "stream",
     "text": [
      "algorithm res:  [15, 15, 3, 1, 2, 6, 88, 135]\n",
      "real ans:  [15, 15, 3, 1, 2, 6, 88, 135]\n"
     ]
    }
   ],
   "source": [
    "res = []\n",
    "for example in examples:\n",
    "    res.append(solution.movingCount(example[0],example[1],example[2]))\n",
    "print('algorithm res: ',res)\n",
    "print('real ans: ', ans)"
   ]
  },
  {
   "cell_type": "code",
   "execution_count": 4,
   "metadata": {
    "ExecuteTime": {
     "end_time": "2021-03-02T06:27:35.767665Z",
     "start_time": "2021-03-02T06:27:35.762134Z"
    }
   },
   "outputs": [
    {
     "name": "stdout",
     "output_type": "stream",
     "text": [
      "algorithm res:  [15, 15, 3, 1, 2, 6, 88, 135]\n",
      "real ans:  [15, 15, 3, 1, 2, 6, 88, 135]\n"
     ]
    }
   ],
   "source": [
    "res = []\n",
    "for example in examples:\n",
    "    res.append(solution.movingCount_bfs(example[0],example[1],example[2]))\n",
    "print('algorithm res: ',res)\n",
    "print('real ans: ', ans)"
   ]
  },
  {
   "cell_type": "code",
   "execution_count": null,
   "metadata": {},
   "outputs": [],
   "source": []
  }
 ],
 "metadata": {
  "kernelspec": {
   "display_name": "Python 3",
   "language": "python",
   "name": "python3"
  },
  "language_info": {
   "codemirror_mode": {
    "name": "ipython",
    "version": 3
   },
   "file_extension": ".py",
   "mimetype": "text/x-python",
   "name": "python",
   "nbconvert_exporter": "python",
   "pygments_lexer": "ipython3",
   "version": "3.7.1"
  },
  "toc": {
   "base_numbering": 1,
   "nav_menu": {},
   "number_sections": true,
   "sideBar": true,
   "skip_h1_title": false,
   "title_cell": "Table of Contents",
   "title_sidebar": "Contents",
   "toc_cell": false,
   "toc_position": {},
   "toc_section_display": true,
   "toc_window_display": false
  }
 },
 "nbformat": 4,
 "nbformat_minor": 2
}

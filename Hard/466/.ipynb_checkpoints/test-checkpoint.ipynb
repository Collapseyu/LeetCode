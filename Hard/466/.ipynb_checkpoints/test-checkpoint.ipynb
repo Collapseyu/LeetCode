{
 "cells": [
  {
   "cell_type": "code",
   "execution_count": 1,
   "metadata": {
    "ExecuteTime": {
     "end_time": "2020-08-30T08:33:30.892392Z",
     "start_time": "2020-08-30T08:33:30.887732Z"
    }
   },
   "outputs": [],
   "source": [
    "from t466 import Solution\n",
    "solution=Solution()"
   ]
  },
  {
   "cell_type": "code",
   "execution_count": 2,
   "metadata": {
    "ExecuteTime": {
     "end_time": "2020-08-30T08:33:30.897785Z",
     "start_time": "2020-08-30T08:33:30.895226Z"
    }
   },
   "outputs": [],
   "source": [
    "s1=\"acb\"\n",
    "n1=4\n",
    "s2=\"ab\"\n",
    "n2=2"
   ]
  },
  {
   "cell_type": "code",
   "execution_count": 3,
   "metadata": {
    "ExecuteTime": {
     "end_time": "2020-08-30T08:33:30.909490Z",
     "start_time": "2020-08-30T08:33:30.899555Z"
    }
   },
   "outputs": [
    {
     "name": "stdout",
     "output_type": "stream",
     "text": [
      "[2, 4, 6]\n",
      "1\n",
      "ab\n",
      "ab\n",
      "2\n",
      "8\n",
      "4\n",
      "4\n",
      "8\n",
      "8\n",
      "\n"
     ]
    },
    {
     "data": {
      "text/plain": [
       "2"
      ]
     },
     "execution_count": 3,
     "metadata": {},
     "output_type": "execute_result"
    }
   ],
   "source": [
    "solution.getMaxRepetitions_1(s1,n1,s2,n2)"
   ]
  },
  {
   "cell_type": "code",
   "execution_count": 4,
   "metadata": {
    "ExecuteTime": {
     "end_time": "2020-08-30T08:33:30.916401Z",
     "start_time": "2020-08-30T08:33:30.914237Z"
    }
   },
   "outputs": [],
   "source": [
    "s1=\"bacaba\"\n",
    "n1=3\n",
    "s2=\"abacab\"\n",
    "n2=1"
   ]
  },
  {
   "cell_type": "code",
   "execution_count": 5,
   "metadata": {
    "ExecuteTime": {
     "end_time": "2020-08-30T08:33:30.926001Z",
     "start_time": "2020-08-30T08:33:30.919969Z"
    }
   },
   "outputs": [
    {
     "name": "stdout",
     "output_type": "stream",
     "text": [
      "[11, 17, 23]\n",
      "1\n",
      "bacaba\n",
      "abacab\n",
      "6\n",
      "13\n",
      "2\n",
      "2\n",
      "17\n",
      "18\n",
      "a\n"
     ]
    },
    {
     "data": {
      "text/plain": [
       "2"
      ]
     },
     "execution_count": 5,
     "metadata": {},
     "output_type": "execute_result"
    }
   ],
   "source": [
    "solution.getMaxRepetitions_1(s1,n1,s2,n2)"
   ]
  },
  {
   "cell_type": "code",
   "execution_count": 6,
   "metadata": {
    "ExecuteTime": {
     "end_time": "2020-08-30T08:33:30.932177Z",
     "start_time": "2020-08-30T08:33:30.928702Z"
    }
   },
   "outputs": [],
   "source": [
    "s1=\"niconiconi\"\n",
    "n1=99981\n",
    "s2=\"nico\"\n",
    "n2=81"
   ]
  },
  {
   "cell_type": "code",
   "execution_count": 7,
   "metadata": {
    "ExecuteTime": {
     "end_time": "2020-08-30T08:33:30.941037Z",
     "start_time": "2020-08-30T08:33:30.934779Z"
    }
   },
   "outputs": [
    {
     "name": "stdout",
     "output_type": "stream",
     "text": [
      "[8, 18, 28]\n",
      "2\n",
      "niconiconi\n",
      "niconico\n",
      "10\n",
      "999812\n",
      "99981\n",
      "199962\n",
      "999808\n",
      "999810\n",
      "ni\n"
     ]
    },
    {
     "data": {
      "text/plain": [
       "2468"
      ]
     },
     "execution_count": 7,
     "metadata": {},
     "output_type": "execute_result"
    }
   ],
   "source": [
    "solution.getMaxRepetitions_1(s1,n1,s2,n2)"
   ]
  },
  {
   "cell_type": "code",
   "execution_count": 8,
   "metadata": {
    "ExecuteTime": {
     "end_time": "2020-08-30T08:33:30.946105Z",
     "start_time": "2020-08-30T08:33:30.943601Z"
    }
   },
   "outputs": [],
   "source": [
    "s1=\"aaa\"\n",
    "n1=20\n",
    "s2=\"aaaaa\"\n",
    "n2=1"
   ]
  },
  {
   "cell_type": "code",
   "execution_count": 9,
   "metadata": {
    "ExecuteTime": {
     "end_time": "2020-08-30T08:33:30.955858Z",
     "start_time": "2020-08-30T08:33:30.948714Z"
    }
   },
   "outputs": [
    {
     "name": "stdout",
     "output_type": "stream",
     "text": [
      "aaaaaa\n",
      "long 2\n",
      "[5, 10, 15]\n",
      "1\n",
      "aaaaaa\n",
      "aaaaa\n",
      "6\n",
      "60\n",
      "12\n",
      "12\n",
      "60\n",
      "60\n",
      "\n"
     ]
    },
    {
     "data": {
      "text/plain": [
       "12"
      ]
     },
     "execution_count": 9,
     "metadata": {},
     "output_type": "execute_result"
    }
   ],
   "source": [
    "solution.getMaxRepetitions_1(s1,n1,s2,n2)"
   ]
  },
  {
   "cell_type": "code",
   "execution_count": 10,
   "metadata": {
    "ExecuteTime": {
     "end_time": "2020-08-30T08:33:30.961999Z",
     "start_time": "2020-08-30T08:33:30.958562Z"
    }
   },
   "outputs": [],
   "source": [
    "s1=\"nlhqgllunmelayl\"\n",
    "n1=10000\n",
    "s2=\"lnl\"\n",
    "n2=10"
   ]
  },
  {
   "cell_type": "code",
   "execution_count": 11,
   "metadata": {
    "ExecuteTime": {
     "end_time": "2020-08-30T08:33:30.970824Z",
     "start_time": "2020-08-30T08:33:30.965514Z"
    }
   },
   "outputs": [
    {
     "name": "stdout",
     "output_type": "stream",
     "text": [
      "[9, 16, 23]\n",
      "2\n",
      "nlllnll\n",
      "lnllnl\n",
      "7\n",
      "69998\n",
      "9999\n",
      "19998\n",
      "69995\n",
      "70000\n",
      "llnll\n"
     ]
    },
    {
     "data": {
      "text/plain": [
       "1999"
      ]
     },
     "execution_count": 11,
     "metadata": {},
     "output_type": "execute_result"
    }
   ],
   "source": [
    "solution.getMaxRepetitions_1(s1,n1,s2,n2)"
   ]
  },
  {
   "cell_type": "code",
   "execution_count": 12,
   "metadata": {
    "ExecuteTime": {
     "end_time": "2020-08-30T08:33:30.977688Z",
     "start_time": "2020-08-30T08:33:30.973386Z"
    }
   },
   "outputs": [],
   "source": [
    "s1=\"nlhqgllunmelayl\"\n",
    "n1=2\n",
    "s2=\"lnl\"\n",
    "n2=1"
   ]
  },
  {
   "cell_type": "code",
   "execution_count": 13,
   "metadata": {
    "ExecuteTime": {
     "end_time": "2020-08-30T08:33:30.986872Z",
     "start_time": "2020-08-30T08:33:30.980485Z"
    }
   },
   "outputs": [
    {
     "name": "stdout",
     "output_type": "stream",
     "text": [
      "[9, 16, 23]\n",
      "2\n",
      "nlllnll\n",
      "lnllnl\n",
      "7\n",
      "12\n",
      "1\n",
      "2\n",
      "9\n",
      "14\n",
      "llnll\n"
     ]
    },
    {
     "data": {
      "text/plain": [
       "2"
      ]
     },
     "execution_count": 13,
     "metadata": {},
     "output_type": "execute_result"
    }
   ],
   "source": [
    "solution.getMaxRepetitions_1(s1,n1,s2,n2)"
   ]
  },
  {
   "cell_type": "code",
   "execution_count": null,
   "metadata": {},
   "outputs": [],
   "source": []
  }
 ],
 "metadata": {
  "kernelspec": {
   "display_name": "Python 3",
   "language": "python",
   "name": "python3"
  },
  "language_info": {
   "codemirror_mode": {
    "name": "ipython",
    "version": 3
   },
   "file_extension": ".py",
   "mimetype": "text/x-python",
   "name": "python",
   "nbconvert_exporter": "python",
   "pygments_lexer": "ipython3",
   "version": "3.7.1"
  },
  "toc": {
   "base_numbering": 1,
   "nav_menu": {},
   "number_sections": true,
   "sideBar": true,
   "skip_h1_title": false,
   "title_cell": "Table of Contents",
   "title_sidebar": "Contents",
   "toc_cell": false,
   "toc_position": {},
   "toc_section_display": true,
   "toc_window_display": false
  }
 },
 "nbformat": 4,
 "nbformat_minor": 2
}

{
 "cells": [
  {
   "cell_type": "code",
   "execution_count": 1,
   "metadata": {
    "ExecuteTime": {
     "end_time": "2021-03-01T05:44:22.077317Z",
     "start_time": "2021-03-01T05:44:22.072787Z"
    }
   },
   "outputs": [],
   "source": [
    "from t303 import NumArray"
   ]
  },
  {
   "cell_type": "code",
   "execution_count": 2,
   "metadata": {
    "ExecuteTime": {
     "end_time": "2021-03-01T05:44:22.311009Z",
     "start_time": "2021-03-01T05:44:22.306612Z"
    }
   },
   "outputs": [],
   "source": [
    "examples = [\n",
    "    [[\"NumArray\", \"sumRange\", \"sumRange\", \"sumRange\"],\n",
    "    [[-2, 0, 3, -5, 2, -1], [0, 2], [2, 5], [0, 5]]]\n",
    "]\n",
    "ans = [1, -1, -3]\n",
    "numArray = NumArray(examples[0][1][0])"
   ]
  },
  {
   "cell_type": "code",
   "execution_count": 3,
   "metadata": {
    "ExecuteTime": {
     "end_time": "2021-03-01T05:44:22.535868Z",
     "start_time": "2021-03-01T05:44:22.529637Z"
    }
   },
   "outputs": [
    {
     "name": "stdout",
     "output_type": "stream",
     "text": [
      "algorithm res:  [1, -1, -3]\n",
      "real ans:  [1, -1, -3]\n"
     ]
    }
   ],
   "source": [
    "res = []\n",
    "# print(examples[0][1][1])\n",
    "for sumRange_index in range(1,len(examples[0][1])):\n",
    "#     print(sumRange_index)\n",
    "    res.append(numArray.sumRange(examples[0][1][sumRange_index][0],examples[0][1][sumRange_index][1]))\n",
    "print('algorithm res: ',res)\n",
    "print('real ans: ',ans)"
   ]
  },
  {
   "cell_type": "code",
   "execution_count": null,
   "metadata": {},
   "outputs": [],
   "source": []
  }
 ],
 "metadata": {
  "kernelspec": {
   "display_name": "Python 3",
   "language": "python",
   "name": "python3"
  },
  "language_info": {
   "codemirror_mode": {
    "name": "ipython",
    "version": 3
   },
   "file_extension": ".py",
   "mimetype": "text/x-python",
   "name": "python",
   "nbconvert_exporter": "python",
   "pygments_lexer": "ipython3",
   "version": "3.7.1"
  },
  "toc": {
   "base_numbering": 1,
   "nav_menu": {},
   "number_sections": true,
   "sideBar": true,
   "skip_h1_title": false,
   "title_cell": "Table of Contents",
   "title_sidebar": "Contents",
   "toc_cell": false,
   "toc_position": {},
   "toc_section_display": true,
   "toc_window_display": false
  }
 },
 "nbformat": 4,
 "nbformat_minor": 2
}

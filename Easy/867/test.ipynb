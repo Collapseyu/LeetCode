{
 "cells": [
  {
   "cell_type": "code",
   "execution_count": 1,
   "metadata": {
    "ExecuteTime": {
     "end_time": "2021-02-25T05:48:11.502178Z",
     "start_time": "2021-02-25T05:48:11.499189Z"
    }
   },
   "outputs": [],
   "source": [
    "from t867 import Solution"
   ]
  },
  {
   "cell_type": "code",
   "execution_count": 3,
   "metadata": {
    "ExecuteTime": {
     "end_time": "2021-02-25T05:49:01.321355Z",
     "start_time": "2021-02-25T05:49:01.316208Z"
    }
   },
   "outputs": [],
   "source": [
    "examples = [\n",
    "    [[1,2,3],[4,5,6],[7,8,9]],\n",
    "    [[1,2,3],[4,5,6]]\n",
    "]\n",
    "ans = [\n",
    "    [[1,4,7],[2,5,8],[3,6,9]],\n",
    "    [[1,4],[2,5],[3,6]]\n",
    "]\n",
    "solution = Solution()"
   ]
  },
  {
   "cell_type": "code",
   "execution_count": 4,
   "metadata": {
    "ExecuteTime": {
     "end_time": "2021-02-25T05:49:44.785081Z",
     "start_time": "2021-02-25T05:49:44.779861Z"
    }
   },
   "outputs": [
    {
     "name": "stdout",
     "output_type": "stream",
     "text": [
      "algorithm res:  [[[1, 4, 7], [2, 5, 8], [3, 6, 9]], [[1, 4], [2, 5], [3, 6]]]\n",
      "real ans:  [[[1, 4, 7], [2, 5, 8], [3, 6, 9]], [[1, 4], [2, 5], [3, 6]]]\n"
     ]
    }
   ],
   "source": [
    "res = []\n",
    "for example in examples:\n",
    "    res.append(solution.transpose(example))\n",
    "print('algorithm res: ',res)\n",
    "print('real ans: ',ans)"
   ]
  },
  {
   "cell_type": "code",
   "execution_count": null,
   "metadata": {},
   "outputs": [],
   "source": []
  }
 ],
 "metadata": {
  "kernelspec": {
   "display_name": "Python 3",
   "language": "python",
   "name": "python3"
  },
  "language_info": {
   "codemirror_mode": {
    "name": "ipython",
    "version": 3
   },
   "file_extension": ".py",
   "mimetype": "text/x-python",
   "name": "python",
   "nbconvert_exporter": "python",
   "pygments_lexer": "ipython3",
   "version": "3.7.1"
  },
  "toc": {
   "base_numbering": 1,
   "nav_menu": {},
   "number_sections": true,
   "sideBar": true,
   "skip_h1_title": false,
   "title_cell": "Table of Contents",
   "title_sidebar": "Contents",
   "toc_cell": false,
   "toc_position": {},
   "toc_section_display": true,
   "toc_window_display": false
  }
 },
 "nbformat": 4,
 "nbformat_minor": 2
}

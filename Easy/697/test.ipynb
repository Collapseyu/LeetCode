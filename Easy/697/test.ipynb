{
 "cells": [
  {
   "cell_type": "code",
   "execution_count": null,
   "metadata": {
    "ExecuteTime": {
     "end_time": "2021-02-20T02:44:21.775950Z",
     "start_time": "2021-02-20T02:44:21.771456Z"
    }
   },
   "outputs": [],
   "source": [
    "from t697 import *"
   ]
  },
  {
   "cell_type": "code",
   "execution_count": null,
   "metadata": {
    "ExecuteTime": {
     "end_time": "2021-02-20T02:44:21.889599Z",
     "start_time": "2021-02-20T02:44:21.886892Z"
    }
   },
   "outputs": [],
   "source": [
    "solution = Solution()"
   ]
  },
  {
   "cell_type": "code",
   "execution_count": null,
   "metadata": {
    "ExecuteTime": {
     "end_time": "2021-02-20T02:44:22.258889Z",
     "start_time": "2021-02-20T02:44:22.254948Z"
    }
   },
   "outputs": [],
   "source": [
    "examples = [\n",
    "    [1,2,2,3,1,4,2],\n",
    "    [1,2,2,3,1],\n",
    "    [1]\n",
    "]\n",
    "answer = [6,2,1]"
   ]
  },
  {
   "cell_type": "code",
   "execution_count": null,
   "metadata": {
    "ExecuteTime": {
     "end_time": "2021-02-20T02:44:22.669349Z",
     "start_time": "2021-02-20T02:44:22.664823Z"
    }
   },
   "outputs": [],
   "source": [
    "res = []\n",
    "for example in examples:\n",
    "    res.append(solution.findShortestSubArray_first(example))\n",
    "print('algorithm res: ', res)\n",
    "print('real answer: ',answer)"
   ]
  },
  {
   "cell_type": "code",
   "execution_count": null,
   "metadata": {
    "ExecuteTime": {
     "end_time": "2021-02-20T02:44:25.862338Z",
     "start_time": "2021-02-20T02:44:25.857160Z"
    }
   },
   "outputs": [],
   "source": [
    "res = []\n",
    "for example in examples:\n",
    "    res.append(solution.findShortestSubArray(example))\n",
    "print('algorithm res: ', res)\n",
    "print('real answer: ',answer)"
   ]
  },
  {
   "cell_type": "code",
   "execution_count": null,
   "metadata": {},
   "outputs": [],
   "source": []
  }
 ],
 "metadata": {
  "kernelspec": {
   "display_name": "Python 3",
   "language": "python",
   "name": "python3"
  },
  "language_info": {
   "codemirror_mode": {
    "name": "ipython",
    "version": 3
   },
   "file_extension": ".py",
   "mimetype": "text/x-python",
   "name": "python",
   "nbconvert_exporter": "python",
   "pygments_lexer": "ipython3",
   "version": "3.7.1"
  },
  "toc": {
   "base_numbering": 1,
   "nav_menu": {},
   "number_sections": true,
   "sideBar": true,
   "skip_h1_title": false,
   "title_cell": "Table of Contents",
   "title_sidebar": "Contents",
   "toc_cell": false,
   "toc_position": {},
   "toc_section_display": true,
   "toc_window_display": false
  }
 },
 "nbformat": 4,
 "nbformat_minor": 2
}

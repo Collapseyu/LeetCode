{
 "cells": [
  {
   "cell_type": "code",
   "execution_count": 6,
   "metadata": {
    "ExecuteTime": {
     "end_time": "2020-09-06T02:06:02.058718Z",
     "start_time": "2020-09-06T02:06:02.056041Z"
    }
   },
   "outputs": [],
   "source": [
    "from t107 import Solution,TreeNode"
   ]
  },
  {
   "cell_type": "code",
   "execution_count": 7,
   "metadata": {
    "ExecuteTime": {
     "end_time": "2020-09-06T02:06:02.611775Z",
     "start_time": "2020-09-06T02:06:02.608834Z"
    }
   },
   "outputs": [],
   "source": [
    "solution=Solution()"
   ]
  },
  {
   "cell_type": "code",
   "execution_count": 9,
   "metadata": {
    "ExecuteTime": {
     "end_time": "2020-09-06T02:07:44.780913Z",
     "start_time": "2020-09-06T02:07:44.777097Z"
    }
   },
   "outputs": [],
   "source": [
    "root=TreeNode(3)\n",
    "node_1=TreeNode(9)\n",
    "node_2=TreeNode(20)\n",
    "leaf_1=TreeNode(15)\n",
    "leaf_2=TreeNode(7)\n",
    "root.left=node_1\n",
    "root.right=node_2\n",
    "node_2.left=leaf_1\n",
    "node_2.right=leaf_2"
   ]
  },
  {
   "cell_type": "code",
   "execution_count": 10,
   "metadata": {
    "ExecuteTime": {
     "end_time": "2020-09-06T02:07:50.008352Z",
     "start_time": "2020-09-06T02:07:49.998430Z"
    }
   },
   "outputs": [
    {
     "data": {
      "text/plain": [
       "[[15, 7], [9, 20], [3]]"
      ]
     },
     "execution_count": 10,
     "metadata": {},
     "output_type": "execute_result"
    }
   ],
   "source": [
    "solution.levelOrderBottom(root)"
   ]
  },
  {
   "cell_type": "code",
   "execution_count": null,
   "metadata": {},
   "outputs": [],
   "source": []
  }
 ],
 "metadata": {
  "kernelspec": {
   "display_name": "Python 3",
   "language": "python",
   "name": "python3"
  },
  "language_info": {
   "codemirror_mode": {
    "name": "ipython",
    "version": 3
   },
   "file_extension": ".py",
   "mimetype": "text/x-python",
   "name": "python",
   "nbconvert_exporter": "python",
   "pygments_lexer": "ipython3",
   "version": "3.7.1"
  },
  "toc": {
   "base_numbering": 1,
   "nav_menu": {},
   "number_sections": true,
   "sideBar": true,
   "skip_h1_title": false,
   "title_cell": "Table of Contents",
   "title_sidebar": "Contents",
   "toc_cell": false,
   "toc_position": {},
   "toc_section_display": true,
   "toc_window_display": false
  }
 },
 "nbformat": 4,
 "nbformat_minor": 2
}

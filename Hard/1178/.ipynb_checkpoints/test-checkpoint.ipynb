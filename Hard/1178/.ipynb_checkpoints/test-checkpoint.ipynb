{
 "cells": [
  {
   "cell_type": "code",
   "execution_count": 2,
   "metadata": {
    "ExecuteTime": {
     "end_time": "2021-02-26T06:29:49.260782Z",
     "start_time": "2021-02-26T06:29:49.255277Z"
    }
   },
   "outputs": [],
   "source": [
    "from t1178 import Solution"
   ]
  },
  {
   "cell_type": "code",
   "execution_count": 4,
   "metadata": {
    "ExecuteTime": {
     "end_time": "2021-02-26T06:31:11.512889Z",
     "start_time": "2021-02-26T06:31:11.507733Z"
    }
   },
   "outputs": [],
   "source": [
    "examples = [\n",
    "    [[\"aaaa\",\"asas\",\"able\",\"ability\",\"actt\",\"actor\",\"access\"],\n",
    "     [\"aboveyz\",\"abrodyz\",\"abslute\",\"absoryz\",\"actresz\",\"gaswxyz\"]],\n",
    "    [[\"apple\",\"pleas\",\"please\"],\n",
    "     [\"aelwxyz\",\"aelpxyz\",\"aelpsxy\",\"saelpxy\",\"xaelpsy\"]]\n",
    "]\n",
    "ans = [\n",
    "        [1,1,3,2,4,0],\n",
    "        [0,1,3,2,0]\n",
    "      ]\n",
    "solution = Solution()"
   ]
  },
  {
   "cell_type": "code",
   "execution_count": 5,
   "metadata": {
    "ExecuteTime": {
     "end_time": "2021-02-26T06:32:04.124631Z",
     "start_time": "2021-02-26T06:32:04.118987Z"
    }
   },
   "outputs": [
    {
     "name": "stdout",
     "output_type": "stream",
     "text": [
      "algorithm output:  [[1, 1, 3, 2, 4, 0], [0, 1, 3, 2, 0]]\n",
      "real ans:  [[1, 1, 3, 2, 4, 0], [0, 1, 3, 2, 0]]\n",
      "CPU times: user 685 µs, sys: 380 µs, total: 1.07 ms\n",
      "Wall time: 735 µs\n"
     ]
    }
   ],
   "source": [
    "%%time\n",
    "res = []\n",
    "for example in examples:\n",
    "    res.append(solution.findNumOfValidWords_subset(example[0],example[1]))\n",
    "print('algorithm output: ',res)\n",
    "print('real ans: ',ans)"
   ]
  },
  {
   "cell_type": "code",
   "execution_count": 6,
   "metadata": {
    "ExecuteTime": {
     "end_time": "2021-02-26T06:32:18.872370Z",
     "start_time": "2021-02-26T06:32:18.867552Z"
    }
   },
   "outputs": [
    {
     "name": "stdout",
     "output_type": "stream",
     "text": [
      "algorithm output:  [[1, 1, 3, 2, 4, 0], [0, 1, 3, 2, 0]]\n",
      "real ans:  [[1, 1, 3, 2, 4, 0], [0, 1, 3, 2, 0]]\n",
      "CPU times: user 294 µs, sys: 113 µs, total: 407 µs\n",
      "Wall time: 374 µs\n"
     ]
    }
   ],
   "source": [
    "%%time\n",
    "res = []\n",
    "for example in examples:\n",
    "    res.append(solution.findNumOfValidWords_bitOP(example[0],example[1]))\n",
    "print('algorithm output: ',res)\n",
    "print('real ans: ',ans)"
   ]
  },
  {
   "cell_type": "code",
   "execution_count": 7,
   "metadata": {
    "ExecuteTime": {
     "end_time": "2021-02-26T06:32:27.326977Z",
     "start_time": "2021-02-26T06:32:27.322105Z"
    }
   },
   "outputs": [
    {
     "name": "stdout",
     "output_type": "stream",
     "text": [
      "algorithm output:  [[1, 1, 3, 2, 4, 0], [0, 1, 3, 2, 0]]\n",
      "real ans:  [[1, 1, 3, 2, 4, 0], [0, 1, 3, 2, 0]]\n",
      "CPU times: user 425 µs, sys: 239 µs, total: 664 µs\n",
      "Wall time: 496 µs\n"
     ]
    }
   ],
   "source": [
    "%%time\n",
    "res = []\n",
    "for example in examples:\n",
    "    res.append(solution.findNumOfValidWords_dict_hash(example[0],example[1]))\n",
    "print('algorithm output: ',res)\n",
    "print('real ans: ',ans)"
   ]
  },
  {
   "cell_type": "code",
   "execution_count": null,
   "metadata": {},
   "outputs": [],
   "source": []
  }
 ],
 "metadata": {
  "kernelspec": {
   "display_name": "Python 3",
   "language": "python",
   "name": "python3"
  },
  "language_info": {
   "codemirror_mode": {
    "name": "ipython",
    "version": 3
   },
   "file_extension": ".py",
   "mimetype": "text/x-python",
   "name": "python",
   "nbconvert_exporter": "python",
   "pygments_lexer": "ipython3",
   "version": "3.7.1"
  },
  "toc": {
   "base_numbering": 1,
   "nav_menu": {},
   "number_sections": true,
   "sideBar": true,
   "skip_h1_title": false,
   "title_cell": "Table of Contents",
   "title_sidebar": "Contents",
   "toc_cell": false,
   "toc_position": {},
   "toc_section_display": true,
   "toc_window_display": false
  }
 },
 "nbformat": 4,
 "nbformat_minor": 2
}

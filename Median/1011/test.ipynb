{
 "cells": [
  {
   "cell_type": "code",
   "execution_count": null,
   "metadata": {},
   "outputs": [],
   "source": [
    "import sys,os\n",
    "struct_path = 'D:\\\\yuyicong\\\\workspace\\\\Algorithm_\\\\method'\n",
    "sys.path.append(struct_path)\n",
    "import structAndBuild\n",
    "import test_frame\n",
    "\n",
    "from typing import List\n",
    "from t1011 import Solution\n",
    "# 传送带上的包裹必须在 D 天内从一个港口运送到另一个港口。\n",
    "# 传送带上的第 i 个包裹的重量为 weights[i]。每一天，我们都会按给出重量的顺序往传送带上装载包裹。\n",
    "# 我们装载的重量不会超过船的最大运载重量。\n",
    "# 返回能在 D 天内将传送带上的所有包裹送达的船的最低运载能力。\n",
    "\n",
    "examples = [\n",
    "   [[1,2,3,4,5,6,7,8,9,10],5],\n",
    "   [[3,2,2,4,1,4],         3],\n",
    "   [[1,2,3,1,1],           4]\n",
    "]\n",
    "ans = [15,6,3]\n",
    "solution = Solution()\n",
    "testF = test_frame.Test_Frame(examples,ans,len(examples[0]),solution.shipWithinDays)"
   ]
  },
  {
   "cell_type": "code",
   "execution_count": null,
   "metadata": {},
   "outputs": [],
   "source": [
    "testF.check_algorithm()"
   ]
  },
  {
   "cell_type": "code",
   "execution_count": null,
   "metadata": {},
   "outputs": [],
   "source": []
  }
 ],
 "metadata": {
  "kernelspec": {
   "display_name": "Python 3",
   "language": "python",
   "name": "python3"
  },
  "language_info": {
   "codemirror_mode": {
    "name": "ipython",
    "version": 3
   },
   "file_extension": ".py",
   "mimetype": "text/x-python",
   "name": "python",
   "nbconvert_exporter": "python",
   "pygments_lexer": "ipython3",
   "version": "3.8.5"
  }
 },
 "nbformat": 4,
 "nbformat_minor": 4
}

{
 "cells": [
  {
   "cell_type": "code",
   "execution_count": null,
   "metadata": {
    "ExecuteTime": {
     "end_time": "2021-02-19T06:39:16.875162Z",
     "start_time": "2021-02-19T06:39:12.981927Z"
    }
   },
   "outputs": [],
   "source": [
    "from t1004 import *\n",
    "import numpy as np"
   ]
  },
  {
   "cell_type": "code",
   "execution_count": null,
   "metadata": {
    "ExecuteTime": {
     "end_time": "2021-02-19T06:36:47.426437Z",
     "start_time": "2021-02-19T06:36:47.419140Z"
    }
   },
   "outputs": [],
   "source": [
    "examples=[\n",
    "    [[1,0,0,0,1,1,0,0,1,1,0,0,0,0,0,0,1,1,1,1,0,1,0,1,1,1,1,1,1,0,1,0,1,0,0,1,1,0,1,1],8,25],\n",
    "    [[1,1,1,0,0,0,1,1,1,1,0],2,6],\n",
    "    [[0,0,1,1,0,0,1,1,1,0,1,1,0,0,0,1,1,1,1],3,10],\n",
    "    [[0,0,0,1],4,4]\n",
    "]"
   ]
  },
  {
   "cell_type": "code",
   "execution_count": null,
   "metadata": {
    "ExecuteTime": {
     "end_time": "2021-02-19T06:36:56.184865Z",
     "start_time": "2021-02-19T06:36:56.181430Z"
    }
   },
   "outputs": [],
   "source": [
    "solution = Solution()"
   ]
  },
  {
   "cell_type": "markdown",
   "metadata": {},
   "source": [
    "# 最粗暴的解法"
   ]
  },
  {
   "cell_type": "code",
   "execution_count": null,
   "metadata": {
    "ExecuteTime": {
     "end_time": "2021-02-19T06:39:23.458442Z",
     "start_time": "2021-02-19T06:39:23.452108Z"
    }
   },
   "outputs": [],
   "source": [
    "res = []\n",
    "for example in examples:\n",
    "    res.append(solution.longestOnes(example[0],example[1]))\n",
    "print('algorithm res: ',res)\n",
    "print('answer:', np.array(examples)[:,2])"
   ]
  },
  {
   "cell_type": "markdown",
   "metadata": {},
   "source": [
    "# 滑动窗口 "
   ]
  },
  {
   "cell_type": "code",
   "execution_count": null,
   "metadata": {
    "ExecuteTime": {
     "end_time": "2021-02-19T06:39:53.253490Z",
     "start_time": "2021-02-19T06:39:53.247936Z"
    }
   },
   "outputs": [],
   "source": [
    "res = []\n",
    "for example in examples:\n",
    "    res.append(solution.longestOnes_slide_windows(example[0],example[1]))\n",
    "print('algorithm res: ',res)\n",
    "print('answer:', np.array(examples)[:,2])"
   ]
  },
  {
   "cell_type": "markdown",
   "metadata": {},
   "source": [
    "# 滑动窗口 简化"
   ]
  },
  {
   "cell_type": "code",
   "execution_count": null,
   "metadata": {
    "ExecuteTime": {
     "end_time": "2021-02-19T06:40:11.239459Z",
     "start_time": "2021-02-19T06:40:11.233893Z"
    }
   },
   "outputs": [],
   "source": [
    "res = []\n",
    "for example in examples:\n",
    "    res.append(solution.longestOnes_simple(example[0],example[1]))\n",
    "print('algorithm res: ',res)\n",
    "print('answer:', np.array(examples)[:,2])"
   ]
  }
 ],
 "metadata": {
  "kernelspec": {
   "display_name": "Python 3",
   "language": "python",
   "name": "python3"
  },
  "language_info": {
   "codemirror_mode": {
    "name": "ipython",
    "version": 3
   },
   "file_extension": ".py",
   "mimetype": "text/x-python",
   "name": "python",
   "nbconvert_exporter": "python",
   "pygments_lexer": "ipython3",
   "version": "3.7.1"
  },
  "toc": {
   "base_numbering": 1,
   "nav_menu": {},
   "number_sections": true,
   "sideBar": true,
   "skip_h1_title": false,
   "title_cell": "Table of Contents",
   "title_sidebar": "Contents",
   "toc_cell": false,
   "toc_position": {},
   "toc_section_display": true,
   "toc_window_display": false
  }
 },
 "nbformat": 4,
 "nbformat_minor": 2
}

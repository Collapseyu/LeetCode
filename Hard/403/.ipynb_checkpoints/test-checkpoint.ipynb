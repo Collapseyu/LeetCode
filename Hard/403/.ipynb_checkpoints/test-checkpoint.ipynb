{
 "cells": [
  {
   "cell_type": "code",
   "execution_count": 7,
   "metadata": {},
   "outputs": [],
   "source": [
    "import sys,os\n",
    "struct_path = 'D:\\\\yuyicong\\\\workspace\\\\Algorithm_\\\\method'\n",
    "sys.path.append(struct_path)\n",
    "import structAndBuild\n",
    "from collections import defaultdict\n",
    "import test_frame\n",
    "\n",
    "from typing import List\n",
    "# 一只青蛙想要过河。 假定河流被等分为若干个单元格，并且在每一个单元格内都有可能放有一块石子（也有可能没有）。\n",
    "# 青蛙可以跳上石子，但是不可以跳入水中。\n",
    "\n",
    "# 给你石子的位置列表 stones（用单元格序号 升序 表示）， 请判定青蛙能否成功过河\n",
    "# （即能否在最后一步跳至最后一块石子上）。\n",
    "\n",
    "# 开始时， 青蛙默认已站在第一块石子上，并可以假定它第一步只能跳跃一个单位（即只能从单元格 1 跳至单元格 2 ）。\n",
    "\n",
    "# 如果青蛙上一步跳跃了 k 个单位，那么它接下来的跳跃距离只能选择为 k - 1、k 或 k + 1 个单位。\n",
    "# 另请注意，青蛙只能向前方（终点的方向）跳跃。\n",
    "\n",
    "examples =[\n",
    "    [[0,1,3,5,6,8,12,17]],\n",
    "    [[0,1,2,3,4,8,9,11]]\n",
    "]\n",
    "ans = [True,False]\n",
    "class Solution:\n",
    "    def canCross(self, stones: List[int]) -> bool:\n",
    "        end = stones[-1]\n",
    "        visited = defaultdict(bool)     #记忆化+dfs\n",
    "        stones_set = set(stones)        #为了查找更快\n",
    "\n",
    "        def dfs(start: int, pre_step: int) -> bool:\n",
    "            if start == end:\n",
    "                return True\n",
    "            if (start, pre_step) in visited:\n",
    "                return visited[(start, pre_step)]\n",
    "            for cur_step in (pre_step - 1, pre_step, pre_step + 1):\n",
    "                if cur_step <= 0:    #如果向左了，或者原地了\n",
    "                    continue\n",
    "                nxt_start = start + cur_step #下一步的开始（起跳点）\n",
    "                if nxt_start in stones_set and dfs(nxt_start, cur_step) == True:    #下一步踩在石头上，且后面能到终点\n",
    "                    visited[(start, pre_step)] = True\n",
    "                    return True\n",
    "            visited[(start, pre_step)] = False\n",
    "            return False\n",
    "\n",
    "        return dfs(stones[0], 0)\n",
    "\n",
    "\n",
    "            \n",
    "solution = Solution()\n",
    "testF = test_frame.Test_Frame(examples,ans,len(examples[0]),solution.canCross)"
   ]
  },
  {
   "cell_type": "code",
   "execution_count": 8,
   "metadata": {},
   "outputs": [
    {
     "name": "stdout",
     "output_type": "stream",
     "text": [
      "All the contained tests passed\n"
     ]
    }
   ],
   "source": [
    "testF.check_algorithm()"
   ]
  },
  {
   "cell_type": "code",
   "execution_count": null,
   "metadata": {},
   "outputs": [],
   "source": []
  }
 ],
 "metadata": {
  "kernelspec": {
   "display_name": "Python 3",
   "language": "python",
   "name": "python3"
  },
  "language_info": {
   "codemirror_mode": {
    "name": "ipython",
    "version": 3
   },
   "file_extension": ".py",
   "mimetype": "text/x-python",
   "name": "python",
   "nbconvert_exporter": "python",
   "pygments_lexer": "ipython3",
   "version": "3.8.5"
  }
 },
 "nbformat": 4,
 "nbformat_minor": 4
}

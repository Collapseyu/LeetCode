{
 "cells": [
  {
   "cell_type": "code",
   "execution_count": 1,
   "metadata": {
    "ExecuteTime": {
     "end_time": "2021-02-24T05:52:19.105960Z",
     "start_time": "2021-02-24T05:52:19.103132Z"
    }
   },
   "outputs": [],
   "source": [
    "from t832 import Solution"
   ]
  },
  {
   "cell_type": "code",
   "execution_count": 5,
   "metadata": {
    "ExecuteTime": {
     "end_time": "2021-02-24T05:53:28.289718Z",
     "start_time": "2021-02-24T05:53:28.283094Z"
    }
   },
   "outputs": [],
   "source": [
    "examples = [\n",
    "    [[1,1,0],[1,0,1],[0,0,0]],\n",
    "    [[1,1,0,0],[1,0,0,1],[0,1,1,1],[1,0,1,0]]\n",
    "]\n",
    "ans = [\n",
    "    [[1,0,0],[0,1,0],[1,1,1]],\n",
    "    [[1,1,0,0],[0,1,1,0],[0,0,0,1],[1,0,1,0]]\n",
    "]\n",
    "solution = Solution()"
   ]
  },
  {
   "cell_type": "code",
   "execution_count": 6,
   "metadata": {
    "ExecuteTime": {
     "end_time": "2021-02-24T05:54:25.256288Z",
     "start_time": "2021-02-24T05:54:25.250920Z"
    }
   },
   "outputs": [
    {
     "name": "stdout",
     "output_type": "stream",
     "text": [
      "algorithm res:  [[[1, 0, 0], [0, 1, 0], [1, 1, 1]], [[1, 1, 0, 0], [0, 1, 1, 0], [0, 0, 0, 1], [1, 0, 1, 0]]]\n",
      "real ans:  [[[1, 0, 0], [0, 1, 0], [1, 1, 1]], [[1, 1, 0, 0], [0, 1, 1, 0], [0, 0, 0, 1], [1, 0, 1, 0]]]\n"
     ]
    }
   ],
   "source": [
    "res = []\n",
    "for example in examples:\n",
    "    res.append(solution.flipAndInvertImage(example))\n",
    "print('algorithm res: ',res)\n",
    "print('real ans: ', ans)"
   ]
  },
  {
   "cell_type": "code",
   "execution_count": null,
   "metadata": {},
   "outputs": [],
   "source": []
  }
 ],
 "metadata": {
  "kernelspec": {
   "display_name": "Python 3",
   "language": "python",
   "name": "python3"
  },
  "language_info": {
   "codemirror_mode": {
    "name": "ipython",
    "version": 3
   },
   "file_extension": ".py",
   "mimetype": "text/x-python",
   "name": "python",
   "nbconvert_exporter": "python",
   "pygments_lexer": "ipython3",
   "version": "3.7.1"
  },
  "toc": {
   "base_numbering": 1,
   "nav_menu": {},
   "number_sections": true,
   "sideBar": true,
   "skip_h1_title": false,
   "title_cell": "Table of Contents",
   "title_sidebar": "Contents",
   "toc_cell": false,
   "toc_position": {},
   "toc_section_display": true,
   "toc_window_display": false
  }
 },
 "nbformat": 4,
 "nbformat_minor": 2
}

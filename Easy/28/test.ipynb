{
 "cells": [
  {
   "cell_type": "code",
   "execution_count": 13,
   "metadata": {},
   "outputs": [],
   "source": [
    "import sys,os\n",
    "struct_path = 'D:\\\\yuyicong\\\\workspace\\\\Algorithm_\\\\method'\n",
    "sys.path.append(struct_path)\n",
    "import structAndBuild\n",
    "import test_frame\n",
    "\n",
    "from typing import List\n",
    "from t28 import Solution\n",
    "# 实现 strStr() 函数。\n",
    "# 给你两个字符串 haystack 和 needle ，请你在 haystack 字符串中找出 needle \n",
    "# 字符串出现的第一个位置（下标从 0 开始）。如果不存在，则返回  -1 。\n",
    "examples = [\n",
    "    ['hello','ll'],\n",
    "    ['aaaaa','bba'],\n",
    "    ['',''],\n",
    "    ['mississippi','issip']\n",
    "]\n",
    "ans =[\n",
    "    2,-1,0,4\n",
    "]\n",
    "solution = Solution()\n",
    "testF = test_frame.Test_Frame(examples,ans,len(examples[0]),solution.strStr)"
   ]
  },
  {
   "cell_type": "code",
   "execution_count": 14,
   "metadata": {},
   "outputs": [
    {
     "name": "stdout",
     "output_type": "stream",
     "text": [
      "All the contained tests passed\n"
     ]
    }
   ],
   "source": [
    "testF.check_algorithm()"
   ]
  },
  {
   "cell_type": "code",
   "execution_count": null,
   "metadata": {},
   "outputs": [],
   "source": []
  }
 ],
 "metadata": {
  "kernelspec": {
   "display_name": "Python 3",
   "language": "python",
   "name": "python3"
  },
  "language_info": {
   "codemirror_mode": {
    "name": "ipython",
    "version": 3
   },
   "file_extension": ".py",
   "mimetype": "text/x-python",
   "name": "python",
   "nbconvert_exporter": "python",
   "pygments_lexer": "ipython3",
   "version": "3.8.5"
  }
 },
 "nbformat": 4,
 "nbformat_minor": 4
}

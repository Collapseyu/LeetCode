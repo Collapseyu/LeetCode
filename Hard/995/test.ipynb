{
 "cells": [
  {
   "cell_type": "code",
   "execution_count": 1,
   "metadata": {
    "ExecuteTime": {
     "end_time": "2021-02-18T05:53:31.222896Z",
     "start_time": "2021-02-18T05:53:31.218479Z"
    }
   },
   "outputs": [],
   "source": [
    "from t995 import Solution"
   ]
  },
  {
   "cell_type": "code",
   "execution_count": 2,
   "metadata": {
    "ExecuteTime": {
     "end_time": "2021-02-18T05:53:34.653002Z",
     "start_time": "2021-02-18T05:53:34.649851Z"
    }
   },
   "outputs": [],
   "source": [
    "solution = Solution()"
   ]
  },
  {
   "cell_type": "code",
   "execution_count": 5,
   "metadata": {
    "ExecuteTime": {
     "end_time": "2021-02-18T05:55:49.062152Z",
     "start_time": "2021-02-18T05:55:49.057703Z"
    }
   },
   "outputs": [],
   "source": [
    "examples =[\n",
    "    [[0,0,0],2,-1],\n",
    "    [[0,1,0],1,2],\n",
    "    [[1,1,0],2,-1],\n",
    "    [[0,0,0,1,0,1,1,0],3,3]\n",
    "]"
   ]
  },
  {
   "cell_type": "code",
   "execution_count": 6,
   "metadata": {
    "ExecuteTime": {
     "end_time": "2021-02-18T05:56:19.660294Z",
     "start_time": "2021-02-18T05:56:19.655195Z"
    }
   },
   "outputs": [
    {
     "name": "stdout",
     "output_type": "stream",
     "text": [
      "right\n",
      "right\n",
      "right\n",
      "right\n"
     ]
    }
   ],
   "source": [
    "for single_example in examples:\n",
    "    if single_example[2] == solution.minKBitFlips(single_example[0],single_example[1]):\n",
    "        print('right')"
   ]
  },
  {
   "cell_type": "code",
   "execution_count": null,
   "metadata": {},
   "outputs": [],
   "source": []
  }
 ],
 "metadata": {
  "kernelspec": {
   "display_name": "Python 3",
   "language": "python",
   "name": "python3"
  },
  "language_info": {
   "codemirror_mode": {
    "name": "ipython",
    "version": 3
   },
   "file_extension": ".py",
   "mimetype": "text/x-python",
   "name": "python",
   "nbconvert_exporter": "python",
   "pygments_lexer": "ipython3",
   "version": "3.7.1"
  },
  "toc": {
   "base_numbering": 1,
   "nav_menu": {},
   "number_sections": true,
   "sideBar": true,
   "skip_h1_title": false,
   "title_cell": "Table of Contents",
   "title_sidebar": "Contents",
   "toc_cell": false,
   "toc_position": {},
   "toc_section_display": true,
   "toc_window_display": false
  }
 },
 "nbformat": 4,
 "nbformat_minor": 2
}

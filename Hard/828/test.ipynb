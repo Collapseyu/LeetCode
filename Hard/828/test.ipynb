{
 "cells": [
  {
   "cell_type": "code",
   "execution_count": 1,
   "metadata": {
    "ExecuteTime": {
     "end_time": "2020-09-06T03:10:52.769922Z",
     "start_time": "2020-09-06T03:10:52.766044Z"
    }
   },
   "outputs": [],
   "source": [
    "from Hardt828 import Solution"
   ]
  },
  {
   "cell_type": "code",
   "execution_count": 2,
   "metadata": {
    "ExecuteTime": {
     "end_time": "2020-09-06T03:10:52.774874Z",
     "start_time": "2020-09-06T03:10:52.772887Z"
    }
   },
   "outputs": [],
   "source": [
    "solution=Solution()"
   ]
  },
  {
   "cell_type": "code",
   "execution_count": 3,
   "metadata": {
    "ExecuteTime": {
     "end_time": "2020-09-06T03:10:52.787495Z",
     "start_time": "2020-09-06T03:10:52.777005Z"
    }
   },
   "outputs": [
    {
     "data": {
      "text/plain": [
       "'A'"
      ]
     },
     "execution_count": 3,
     "metadata": {},
     "output_type": "execute_result"
    }
   ],
   "source": [
    "s=\"ABA\"\n",
    "s[0:1]"
   ]
  },
  {
   "cell_type": "code",
   "execution_count": 9,
   "metadata": {
    "ExecuteTime": {
     "end_time": "2020-09-06T03:13:33.146843Z",
     "start_time": "2020-09-06T03:13:33.135557Z"
    }
   },
   "outputs": [
    {
     "name": "stdout",
     "output_type": "stream",
     "text": [
      "str:  L  res:  1\n",
      "str:  E  res:  1\n",
      "str:  E  res:  1\n",
      "str:  T  res:  1\n",
      "str:  C  res:  1\n",
      "str:  O  res:  1\n",
      "str:  D  res:  1\n",
      "str:  E  res:  1\n",
      "str:  LE  res:  2\n",
      "str:  EE  res:  0\n",
      "str:  ET  res:  2\n",
      "str:  TC  res:  2\n",
      "str:  CO  res:  2\n",
      "str:  OD  res:  2\n",
      "str:  DE  res:  2\n",
      "str:  LEE  res:  1\n",
      "str:  EET  res:  1\n",
      "str:  ETC  res:  3\n",
      "str:  TCO  res:  3\n",
      "str:  COD  res:  3\n",
      "str:  ODE  res:  3\n",
      "str:  LEET  res:  2\n",
      "str:  EETC  res:  2\n",
      "str:  ETCO  res:  4\n",
      "str:  TCOD  res:  4\n",
      "str:  CODE  res:  4\n",
      "str:  LEETC  res:  3\n",
      "str:  EETCO  res:  3\n",
      "str:  ETCOD  res:  5\n",
      "str:  TCODE  res:  5\n",
      "str:  LEETCO  res:  4\n",
      "str:  EETCOD  res:  4\n",
      "str:  ETCODE  res:  4\n",
      "str:  LEETCOD  res:  5\n",
      "str:  EETCODE  res:  4\n",
      "str:  LEETCODE  res:  5\n"
     ]
    },
    {
     "data": {
      "text/plain": [
       "92"
      ]
     },
     "execution_count": 9,
     "metadata": {},
     "output_type": "execute_result"
    }
   ],
   "source": [
    "solution.uniqueLetterString(\"LEETCODE\")%(10**9+7)"
   ]
  },
  {
   "cell_type": "code",
   "execution_count": 13,
   "metadata": {
    "ExecuteTime": {
     "end_time": "2020-09-06T03:15:41.816270Z",
     "start_time": "2020-09-06T03:15:41.811059Z"
    }
   },
   "outputs": [
    {
     "data": {
      "text/plain": [
       "{'A': [-1, -1],\n",
       " 'B': [-1, -1],\n",
       " 'C': [-1, -1],\n",
       " 'D': [-1, -1],\n",
       " 'E': [-1, -1],\n",
       " 'F': [-1, -1],\n",
       " 'G': [-1, -1],\n",
       " 'H': [-1, -1],\n",
       " 'I': [-1, -1],\n",
       " 'J': [-1, -1],\n",
       " 'K': [-1, -1],\n",
       " 'L': [-1, -1],\n",
       " 'M': [-1, -1],\n",
       " 'N': [-1, -1],\n",
       " 'O': [-1, -1],\n",
       " 'P': [-1, -1],\n",
       " 'Q': [-1, -1],\n",
       " 'R': [-1, -1],\n",
       " 'S': [-1, -1],\n",
       " 'T': [-1, -1],\n",
       " 'U': [-1, -1],\n",
       " 'V': [-1, -1],\n",
       " 'W': [-1, -1],\n",
       " 'X': [-1, -1],\n",
       " 'Y': [-1, -1],\n",
       " 'Z': [-1, -1]}"
      ]
     },
     "execution_count": 13,
     "metadata": {},
     "output_type": "execute_result"
    }
   ],
   "source": [
    "import string\n",
    "index = {i: [-1, -1] for i in string.ascii_uppercase}\n",
    "index"
   ]
  },
  {
   "cell_type": "code",
   "execution_count": 15,
   "metadata": {
    "ExecuteTime": {
     "end_time": "2020-09-06T04:01:12.169060Z",
     "start_time": "2020-09-06T04:01:12.165849Z"
    }
   },
   "outputs": [],
   "source": [
    "index = {i: [-1, -1] for i in string.ascii_uppercase}\n",
    "res=0"
   ]
  },
  {
   "cell_type": "code",
   "execution_count": null,
   "metadata": {},
   "outputs": [],
   "source": []
  }
 ],
 "metadata": {
  "kernelspec": {
   "display_name": "Python 3",
   "language": "python",
   "name": "python3"
  },
  "language_info": {
   "codemirror_mode": {
    "name": "ipython",
    "version": 3
   },
   "file_extension": ".py",
   "mimetype": "text/x-python",
   "name": "python",
   "nbconvert_exporter": "python",
   "pygments_lexer": "ipython3",
   "version": "3.7.1"
  },
  "toc": {
   "base_numbering": 1,
   "nav_menu": {},
   "number_sections": true,
   "sideBar": true,
   "skip_h1_title": false,
   "title_cell": "Table of Contents",
   "title_sidebar": "Contents",
   "toc_cell": false,
   "toc_position": {},
   "toc_section_display": true,
   "toc_window_display": false
  }
 },
 "nbformat": 4,
 "nbformat_minor": 2
}

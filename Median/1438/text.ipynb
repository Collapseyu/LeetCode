{
 "cells": [
  {
   "cell_type": "code",
   "execution_count": 1,
   "metadata": {
    "ExecuteTime": {
     "end_time": "2021-02-22T05:55:45.459589Z",
     "start_time": "2021-02-22T05:55:45.454532Z"
    }
   },
   "outputs": [],
   "source": [
    "from t1438 import Solution"
   ]
  },
  {
   "cell_type": "code",
   "execution_count": 2,
   "metadata": {
    "ExecuteTime": {
     "end_time": "2021-02-22T05:55:45.698804Z",
     "start_time": "2021-02-22T05:55:45.694399Z"
    }
   },
   "outputs": [],
   "source": [
    "examples = [\n",
    "    [[8,2,4,7],4],\n",
    "    [[10,1,2,4,7,2],5],\n",
    "    [[4,2,2,2,4,4,2,2],0]\n",
    "]\n",
    "ans = [2,4,3]"
   ]
  },
  {
   "cell_type": "code",
   "execution_count": 3,
   "metadata": {
    "ExecuteTime": {
     "end_time": "2021-02-22T05:56:13.353486Z",
     "start_time": "2021-02-22T05:56:13.350538Z"
    }
   },
   "outputs": [],
   "source": [
    "solution = Solution()"
   ]
  },
  {
   "cell_type": "code",
   "execution_count": 4,
   "metadata": {
    "ExecuteTime": {
     "end_time": "2021-02-22T05:56:53.209610Z",
     "start_time": "2021-02-22T05:56:53.204452Z"
    }
   },
   "outputs": [
    {
     "name": "stdout",
     "output_type": "stream",
     "text": [
      "algorithm res:  [2, 4, 3]\n",
      "real answer:  [2, 4, 3]\n"
     ]
    }
   ],
   "source": [
    "res = []\n",
    "for example in examples:\n",
    "    res.append(solution.longestSubarray(example[0],example[1]))\n",
    "print('algorithm res: ',res)\n",
    "print('real answer: ', ans)"
   ]
  },
  {
   "cell_type": "code",
   "execution_count": 5,
   "metadata": {
    "ExecuteTime": {
     "end_time": "2021-02-22T05:57:04.868143Z",
     "start_time": "2021-02-22T05:57:04.863040Z"
    }
   },
   "outputs": [
    {
     "name": "stdout",
     "output_type": "stream",
     "text": [
      "algorithm res:  [2, 4, 3]\n",
      "real answer:  [2, 4, 3]\n"
     ]
    }
   ],
   "source": [
    "res = []\n",
    "for example in examples:\n",
    "    res.append(solution.longestSubarray_binary(example[0],example[1]))\n",
    "print('algorithm res: ',res)\n",
    "print('real answer: ', ans)"
   ]
  },
  {
   "cell_type": "code",
   "execution_count": 6,
   "metadata": {
    "ExecuteTime": {
     "end_time": "2021-02-22T05:57:10.481938Z",
     "start_time": "2021-02-22T05:57:10.476649Z"
    }
   },
   "outputs": [
    {
     "name": "stdout",
     "output_type": "stream",
     "text": [
      "algorithm res:  [2, 4, 3]\n",
      "real answer:  [2, 4, 3]\n"
     ]
    }
   ],
   "source": [
    "res = []\n",
    "for example in examples:\n",
    "    res.append(solution.longestSubarray_overtime(example[0],example[1]))\n",
    "print('algorithm res: ',res)\n",
    "print('real answer: ', ans)"
   ]
  },
  {
   "cell_type": "code",
   "execution_count": null,
   "metadata": {},
   "outputs": [],
   "source": []
  }
 ],
 "metadata": {
  "kernelspec": {
   "display_name": "Python 3",
   "language": "python",
   "name": "python3"
  },
  "language_info": {
   "codemirror_mode": {
    "name": "ipython",
    "version": 3
   },
   "file_extension": ".py",
   "mimetype": "text/x-python",
   "name": "python",
   "nbconvert_exporter": "python",
   "pygments_lexer": "ipython3",
   "version": "3.7.1"
  },
  "toc": {
   "base_numbering": 1,
   "nav_menu": {},
   "number_sections": true,
   "sideBar": true,
   "skip_h1_title": false,
   "title_cell": "Table of Contents",
   "title_sidebar": "Contents",
   "toc_cell": false,
   "toc_position": {},
   "toc_section_display": true,
   "toc_window_display": false
  }
 },
 "nbformat": 4,
 "nbformat_minor": 2
}

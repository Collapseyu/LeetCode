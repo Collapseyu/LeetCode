{
 "cells": [
  {
   "cell_type": "code",
   "execution_count": 1,
   "metadata": {},
   "outputs": [],
   "source": [
    "import sys,os\n",
    "struct_path = 'D:\\\\yuyicong\\\\workspace\\\\Algorithm_\\\\method'\n",
    "sys.path.append(struct_path)\n",
    "import structAndBuild\n",
    "import test_frame\n",
    "\n",
    "from typing import List\n",
    "from t25 import Solution\n",
    "\n",
    "examples = [\n",
    "    [[1,2,3,4,5],2],\n",
    "    [[1,2,3,4,5],3],\n",
    "    [[1,2,3,4,5],1],\n",
    "    [[1],1]\n",
    "]\n",
    "ans = [\n",
    "    [2,1,4,3,5],\n",
    "    [3,2,1,4,5],\n",
    "    [1,2,3,4,5],\n",
    "    [1]\n",
    "]\n",
    "solution = Solution()\n",
    "tsf = test_frame.Test_Frame(examples,ans,2,solution.reverseKGroup,True,False,True,False,False,0)"
   ]
  },
  {
   "cell_type": "code",
   "execution_count": 2,
   "metadata": {},
   "outputs": [
    {
     "name": "stdout",
     "output_type": "stream",
     "text": [
      "All the contained tests passed\n"
     ]
    }
   ],
   "source": [
    "tsf.check_algorithm()"
   ]
  },
  {
   "cell_type": "code",
   "execution_count": null,
   "metadata": {},
   "outputs": [],
   "source": []
  }
 ],
 "metadata": {
  "kernelspec": {
   "display_name": "Python 3",
   "language": "python",
   "name": "python3"
  },
  "language_info": {
   "codemirror_mode": {
    "name": "ipython",
    "version": 3
   },
   "file_extension": ".py",
   "mimetype": "text/x-python",
   "name": "python",
   "nbconvert_exporter": "python",
   "pygments_lexer": "ipython3",
   "version": "3.8.5"
  }
 },
 "nbformat": 4,
 "nbformat_minor": 4
}
